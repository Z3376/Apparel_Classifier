{
  "nbformat": 4,
  "nbformat_minor": 0,
  "metadata": {
    "colab": {
      "name": "ULMFiT.ipynb",
      "provenance": [],
      "collapsed_sections": [
        "SvsZO1P9MGy3",
        "yWTFsIuZL9O6",
        "Dg2Knyb6L5y8",
        "TRKLyxYs9edb"
      ],
      "toc_visible": true,
      "include_colab_link": true
    },
    "kernelspec": {
      "name": "python3",
      "display_name": "Python 3"
    },
    "accelerator": "GPU"
  },
  "cells": [
    {
      "cell_type": "markdown",
      "metadata": {
        "id": "view-in-github",
        "colab_type": "text"
      },
      "source": [
        "<a href=\"https://colab.research.google.com/github/Z3376/Apparel_Classifier/blob/master/ULMFiT.ipynb\" target=\"_parent\"><img src=\"https://colab.research.google.com/assets/colab-badge.svg\" alt=\"Open In Colab\"/></a>"
      ]
    },
    {
      "cell_type": "markdown",
      "metadata": {
        "id": "CJDM_dVo6jm4",
        "colab_type": "text"
      },
      "source": [
        "# Terminal"
      ]
    },
    {
      "cell_type": "code",
      "metadata": {
        "id": "sev5sByl6opH",
        "colab_type": "code",
        "colab": {}
      },
      "source": [
        "%%bash\n",
        "pip install torch\n",
        "pip install fastai\n",
        "wget -O twitter_airline.zip \"https://storage.googleapis.com/kaggle-data-sets/17/742210/compressed/Tweets.csv.zip?GoogleAccessId=web-data@kaggle-161607.iam.gserviceaccount.com&Expires=1573591561&Signature=kkqLBkOy4Vy73TFR66bJOWp3Ilk3%2FFbhlMK%2BlcXHRWoD1Oaxin3ieJVw0%2FIjpCJ3nWtvJb%2Fq%2FhQd%2BoGAVLacRB%2BNYegfAlPxAq8xlesRfM3P5Rsdge6VaCPwvhtJMPWCX46jOH4oPVdwoea5La9FnIU2jbRBsvxBFhqVwzP00CXpG5%2FVnGojolxBDl%2FB%2FbVAd%2BiBFYRhAWbN7pIAswVKv%2F%2FuJ2YbREBRa%2BBE20Mv6PDfoG85MkDmGcRDV5UqqhvpejU%2FVrn0itcpIAHXfDVOpr%2B0kRT3aG30i9xOYcswpFTg47Mm%2FREe3X%2B9C2SKSVfdJMhmISIs031Iq6D%2F%2FKqPFQ%3D%3D&response-content-disposition=attachment%3B+filename%3DTweets.csv.zip\"\n",
        "unzip twitter_airline.zip\n",
        "wget -O twitter_text.zip \"https://storage.googleapis.com/kaggle-data-sets/2477/4140/compressed/training.1600000.processed.noemoticon.csv.zip?GoogleAccessId=web-data@kaggle-161607.iam.gserviceaccount.com&Expires=1573603378&Signature=GGXrS20UOzSiGbMa%2Fop3ufInSh1haJCAci4ph5297QZQT1h9Dykd%2BulbHsUSY%2BpTQuQvh0aTbxB%2FVuveJRzn101vHR1gCUffDzV8qplSDfa0MxgV%2FVhE%2FjNki4plz6JZ7AcNc%2BcShkE5jg4yP5zJKu3PMB91Mttyi30wo5YSckfSZKmueRsiWl2eIgtNZ7W2UsCKNkIZUxNuphKInJbA6rQOB3wuXRb1YGv%2BmmbvSy8j25%2FgQ0X0XsoiTVEmio1iFjXyKM21mGGx3knodgkf3GL3A3to4Co2KduyEIzCUBOOYcRAOwy1ErhyiwmLVQ0DtRiCbD7E71uF%2F97AIGiGGQ%3D%3D&response-content-disposition=attachment%3B+filename%3Dtraining.1600000.processed.noemoticon.csv.zip\"\n",
        "unzip twitter_text.zip"
      ],
      "execution_count": 0,
      "outputs": []
    },
    {
      "cell_type": "markdown",
      "metadata": {
        "id": "cs_Smq4C6vmG",
        "colab_type": "text"
      },
      "source": [
        "# Imports"
      ]
    },
    {
      "cell_type": "code",
      "metadata": {
        "id": "IsVzHg076zsq",
        "colab_type": "code",
        "outputId": "c760338e-215d-4f25-c593-3037565130ec",
        "colab": {
          "base_uri": "https://localhost:8080/",
          "height": 51
        }
      },
      "source": [
        "import fastai\n",
        "from fastai import *\n",
        "from fastai.text import * \n",
        "import pandas as pd\n",
        "import numpy as np\n",
        "import nltk\n",
        "nltk.download('stopwords')\n",
        "from nltk.corpus import stopwords \n",
        "from sklearn.model_selection import train_test_split\n",
        "import matplotlib.pyplot as plt"
      ],
      "execution_count": 5,
      "outputs": [
        {
          "output_type": "stream",
          "text": [
            "[nltk_data] Downloading package stopwords to /root/nltk_data...\n",
            "[nltk_data]   Package stopwords is already up-to-date!\n"
          ],
          "name": "stdout"
        }
      ]
    },
    {
      "cell_type": "markdown",
      "metadata": {
        "id": "LrdBSkgu68yw",
        "colab_type": "text"
      },
      "source": [
        "# Data"
      ]
    },
    {
      "cell_type": "code",
      "metadata": {
        "id": "wzRYOIC_-Qlu",
        "colab_type": "code",
        "colab": {}
      },
      "source": [
        "\"\"\"\n",
        "Loading Data\n",
        "\"\"\"\n",
        "df = pd.read_csv('Tweets.csv')\n",
        "# lm_df = pd.read_csv('training.1600000.processed.noemoticon.csv',encoding='latin-1',header=None,names=['id','date','flag','user','text'])"
      ],
      "execution_count": 0,
      "outputs": []
    },
    {
      "cell_type": "code",
      "metadata": {
        "id": "oqm4irp966VH",
        "colab_type": "code",
        "colab": {}
      },
      "source": [
        "\"\"\"\n",
        "Cleaning Data\n",
        "\"\"\"\n",
        "df = df[df['airline_sentiment_confidence']==1].reset_index(drop=True)"
      ],
      "execution_count": 0,
      "outputs": []
    },
    {
      "cell_type": "code",
      "metadata": {
        "id": "6DS4BH3K6-0j",
        "colab_type": "code",
        "colab": {}
      },
      "source": [
        "df = df[['airline_sentiment','text']]\n",
        "df.columns = ['label','text']"
      ],
      "execution_count": 0,
      "outputs": []
    },
    {
      "cell_type": "code",
      "metadata": {
        "id": "z-D_bJ9N7BDA",
        "colab_type": "code",
        "outputId": "01487576-036b-4b88-d044-d07bdd496eeb",
        "colab": {
          "base_uri": "https://localhost:8080/",
          "height": 34
        }
      },
      "source": [
        "df.shape"
      ],
      "execution_count": 9,
      "outputs": [
        {
          "output_type": "execute_result",
          "data": {
            "text/plain": [
              "(10445, 2)"
            ]
          },
          "metadata": {
            "tags": []
          },
          "execution_count": 9
        }
      ]
    },
    {
      "cell_type": "markdown",
      "metadata": {
        "id": "gGbBnVNH9Z-w",
        "colab_type": "text"
      },
      "source": [
        "# Unbalanced Dataset"
      ]
    },
    {
      "cell_type": "markdown",
      "metadata": {
        "id": "SvsZO1P9MGy3",
        "colab_type": "text"
      },
      "source": [
        "## Preprocessing"
      ]
    },
    {
      "cell_type": "code",
      "metadata": {
        "colab_type": "code",
        "outputId": "83a5237f-cce1-42c1-b4b5-f3721085d90d",
        "id": "uMIVvhKPOK3L",
        "colab": {
          "base_uri": "https://localhost:8080/",
          "height": 85
        }
      },
      "source": [
        "print(df['label'].value_counts())"
      ],
      "execution_count": 10,
      "outputs": [
        {
          "output_type": "stream",
          "text": [
            "negative    7382\n",
            "neutral     1548\n",
            "positive    1515\n",
            "Name: label, dtype: int64\n"
          ],
          "name": "stdout"
        }
      ]
    },
    {
      "cell_type": "code",
      "metadata": {
        "colab_type": "code",
        "id": "_EBtUsN2OK3P",
        "outputId": "f8929352-78dc-4128-90cf-aadd064dd78e",
        "colab": {
          "base_uri": "https://localhost:8080/",
          "height": 34
        }
      },
      "source": [
        "\"\"\"\n",
        "Removing special characters\n",
        "\"\"\"\n",
        "# df['text'] = df['text'].str.replace(\"[^a-zA-Z0-9]\", \" \")"
      ],
      "execution_count": 11,
      "outputs": [
        {
          "output_type": "execute_result",
          "data": {
            "text/plain": [
              "'\\nRemoving special characters\\n'"
            ]
          },
          "metadata": {
            "tags": []
          },
          "execution_count": 11
        }
      ]
    },
    {
      "cell_type": "code",
      "metadata": {
        "colab_type": "code",
        "id": "vLB1mX6DOK3R",
        "colab": {}
      },
      "source": [
        "\"\"\"\n",
        "Tokenizing and stopword removal\n",
        "\"\"\" \n",
        "tokenized_corp = df['text'].transform(lambda x: x.split())\n",
        "stop_words = set(stopwords.words('english'))\n",
        "tokenized_corp = tokenized_corp.transform(lambda x: [item for item in x if item not in stop_words])"
      ],
      "execution_count": 0,
      "outputs": []
    },
    {
      "cell_type": "code",
      "metadata": {
        "colab_type": "code",
        "id": "R0WIPJQiOK3U",
        "colab": {}
      },
      "source": [
        "\"\"\"\n",
        "De-Tokenizing\n",
        "\"\"\"\n",
        "detokenized_corp = [] \n",
        "for i in range(len(df)): \n",
        "    t = ' '.join(tokenized_corp[i]) \n",
        "    detokenized_corp.append(t) \n",
        "\n",
        "df['text'] = detokenized_corp"
      ],
      "execution_count": 0,
      "outputs": []
    },
    {
      "cell_type": "code",
      "metadata": {
        "colab_type": "code",
        "id": "LjUkWZMuOK3W",
        "colab": {}
      },
      "source": [
        "\"\"\"\n",
        "Split into training and validation set\n",
        "\"\"\"\n",
        "df_train,df_val = train_test_split(df, stratify=df['label'], test_size=0.25)"
      ],
      "execution_count": 0,
      "outputs": []
    },
    {
      "cell_type": "code",
      "metadata": {
        "colab_type": "code",
        "outputId": "4f90cdd2-eaf2-4707-e936-8c91e065d1db",
        "id": "U4R-NTJoOK3Y",
        "colab": {
          "base_uri": "https://localhost:8080/",
          "height": 51
        }
      },
      "source": [
        "print(df_train.shape)\n",
        "print(df_val.shape)"
      ],
      "execution_count": 15,
      "outputs": [
        {
          "output_type": "stream",
          "text": [
            "(7833, 2)\n",
            "(2612, 2)\n"
          ],
          "name": "stdout"
        }
      ]
    },
    {
      "cell_type": "markdown",
      "metadata": {
        "id": "FsPU88kNMCj0",
        "colab_type": "text"
      },
      "source": [
        "## Language Model"
      ]
    },
    {
      "cell_type": "code",
      "metadata": {
        "colab_type": "code",
        "id": "YK-PwHZuOK3b",
        "colab": {}
      },
      "source": [
        "\"\"\"\n",
        "Language model (LM) data\n",
        "\"\"\"\n",
        "lm_data = TextLMDataBunch.from_df(train_df=df_train, valid_df=df_val, path=\"\")"
      ],
      "execution_count": 0,
      "outputs": []
    },
    {
      "cell_type": "code",
      "metadata": {
        "colab_type": "code",
        "id": "KJdRC3m0OK3f",
        "colab": {}
      },
      "source": [
        "\"\"\"\n",
        "Loading pre-trained LM\n",
        "\"\"\"\n",
        "learner = language_model_learner(lm_data,pretrained=True,drop_mult=0.7,arch=AWD_LSTM)"
      ],
      "execution_count": 0,
      "outputs": []
    },
    {
      "cell_type": "code",
      "metadata": {
        "id": "TMoj1JdKgQ8a",
        "colab_type": "code",
        "colab": {
          "base_uri": "https://localhost:8080/",
          "height": 142
        },
        "outputId": "dfce3e34-67c3-4554-a46c-f42bcbb35928"
      },
      "source": [
        "\"\"\"\n",
        "Finetuning pre-trained LM with LSTM layers freezed\n",
        "opt = Adam\n",
        "\"\"\"\n",
        "learner.freeze_to(-1)\n",
        "learner.fit_one_cycle(3, 1e-2)"
      ],
      "execution_count": 18,
      "outputs": [
        {
          "output_type": "display_data",
          "data": {
            "text/html": [
              "<table border=\"1\" class=\"dataframe\">\n",
              "  <thead>\n",
              "    <tr style=\"text-align: left;\">\n",
              "      <th>epoch</th>\n",
              "      <th>train_loss</th>\n",
              "      <th>valid_loss</th>\n",
              "      <th>accuracy</th>\n",
              "      <th>time</th>\n",
              "    </tr>\n",
              "  </thead>\n",
              "  <tbody>\n",
              "    <tr>\n",
              "      <td>0</td>\n",
              "      <td>6.574851</td>\n",
              "      <td>5.002368</td>\n",
              "      <td>0.188068</td>\n",
              "      <td>00:03</td>\n",
              "    </tr>\n",
              "    <tr>\n",
              "      <td>1</td>\n",
              "      <td>5.430336</td>\n",
              "      <td>4.458969</td>\n",
              "      <td>0.235653</td>\n",
              "      <td>00:03</td>\n",
              "    </tr>\n",
              "    <tr>\n",
              "      <td>2</td>\n",
              "      <td>4.915076</td>\n",
              "      <td>4.417841</td>\n",
              "      <td>0.239448</td>\n",
              "      <td>00:03</td>\n",
              "    </tr>\n",
              "  </tbody>\n",
              "</table>"
            ],
            "text/plain": [
              "<IPython.core.display.HTML object>"
            ]
          },
          "metadata": {
            "tags": []
          }
        }
      ]
    },
    {
      "cell_type": "code",
      "metadata": {
        "colab_type": "code",
        "outputId": "805deecf-07ad-4c65-a21d-6ef0b3926b3e",
        "id": "phn1TQHrOK3g",
        "colab": {
          "base_uri": "https://localhost:8080/",
          "height": 204
        }
      },
      "source": [
        "\"\"\"\n",
        "Finetuning complete LM with discriminative learning\n",
        "\"\"\"\n",
        "learner.unfreeze()\n",
        "lr  = 1e-2\n",
        "lrm = 2.6\n",
        "lrs = np.array([lr/(lrm**3), lr/(lrm**2), lr/lrm, lr])\n",
        "learner.fit_one_cycle(5, lrs)"
      ],
      "execution_count": 19,
      "outputs": [
        {
          "output_type": "display_data",
          "data": {
            "text/html": [
              "<table border=\"1\" class=\"dataframe\">\n",
              "  <thead>\n",
              "    <tr style=\"text-align: left;\">\n",
              "      <th>epoch</th>\n",
              "      <th>train_loss</th>\n",
              "      <th>valid_loss</th>\n",
              "      <th>accuracy</th>\n",
              "      <th>time</th>\n",
              "    </tr>\n",
              "  </thead>\n",
              "  <tbody>\n",
              "    <tr>\n",
              "      <td>0</td>\n",
              "      <td>4.412913</td>\n",
              "      <td>4.246438</td>\n",
              "      <td>0.258787</td>\n",
              "      <td>00:04</td>\n",
              "    </tr>\n",
              "    <tr>\n",
              "      <td>1</td>\n",
              "      <td>4.229350</td>\n",
              "      <td>4.143929</td>\n",
              "      <td>0.266031</td>\n",
              "      <td>00:04</td>\n",
              "    </tr>\n",
              "    <tr>\n",
              "      <td>2</td>\n",
              "      <td>3.988394</td>\n",
              "      <td>4.120975</td>\n",
              "      <td>0.268912</td>\n",
              "      <td>00:04</td>\n",
              "    </tr>\n",
              "    <tr>\n",
              "      <td>3</td>\n",
              "      <td>3.736066</td>\n",
              "      <td>4.169859</td>\n",
              "      <td>0.267857</td>\n",
              "      <td>00:04</td>\n",
              "    </tr>\n",
              "    <tr>\n",
              "      <td>4</td>\n",
              "      <td>3.512068</td>\n",
              "      <td>4.184694</td>\n",
              "      <td>0.270373</td>\n",
              "      <td>00:04</td>\n",
              "    </tr>\n",
              "  </tbody>\n",
              "</table>"
            ],
            "text/plain": [
              "<IPython.core.display.HTML object>"
            ]
          },
          "metadata": {
            "tags": []
          }
        }
      ]
    },
    {
      "cell_type": "code",
      "metadata": {
        "id": "QZUidH47i_mG",
        "colab_type": "code",
        "outputId": "a3fbf772-ca18-4902-a7e4-dd88b65b45b7",
        "colab": {
          "base_uri": "https://localhost:8080/",
          "height": 391
        }
      },
      "source": [
        "learner.show_results()"
      ],
      "execution_count": 21,
      "outputs": [
        {
          "output_type": "display_data",
          "data": {
            "text/html": [
              "<table border=\"1\" class=\"dataframe\">\n",
              "  <thead>\n",
              "    <tr style=\"text-align: right;\">\n",
              "      <th>text</th>\n",
              "      <th>target</th>\n",
              "      <th>pred</th>\n",
              "    </tr>\n",
              "  </thead>\n",
              "  <tbody>\n",
              "    <tr>\n",
              "      <td>xxbos @united xxmaj thanks xxunk ? xxmaj you guys 3 hours extra get bag due delay . xxmaj so that</td>\n",
              "      <td>'s 7 hours had . # fail ! xxbos @usairways xxmaj just xxunk xxup xxunk xxup news ripoff xxmaj cancelled</td>\n",
              "      <td>'s good hour . . xxbos xxunk xxbos xxbos @united xxmaj you got . xxunk xxup xxunk . ! cancelled</td>\n",
              "    </tr>\n",
              "    <tr>\n",
              "      <td>ground staff false promises xxmaj twitter xxunk xxbos @americanair @dfwairport 2 together best part flying ! xxbos @jetblue xxmaj thanks</td>\n",
              "      <td>. xxmaj used phone instead computer worked ! ! xxmaj thx again ! xxbos @southwestair bad i 'm getting xxunk</td>\n",
              "      <td>! xxmaj you first system . . . xxbos xxbos thanks ! ! xxbos @united xxmaj weather 'm trying xxunk</td>\n",
              "    </tr>\n",
              "    <tr>\n",
              "      <td>- disaster ! xxmaj flight xxunk , missed passenger count 5 since done xxunk ! ! xxmaj really ? ?</td>\n",
              "      <td>? xxbos @united xxmaj no , thanks . i 'm sick company 's lousy excuse customer service . i 'm</td>\n",
              "      <td>xxbos xxbos @united xxmaj thanks , i . xxmaj 'm sure . . bad service . service . xxmaj 'm</td>\n",
              "    </tr>\n",
              "    <tr>\n",
              "      <td>schedule . xxmaj no xxunk xxup phl xxup fll xxup pbi ? xxmaj we free move cities . xxmaj sad</td>\n",
              "      <td>. xxbos @united tried . xxmaj it 's already cancun one delivered xxbos @united i voucher expires next week ,</td>\n",
              "      <td>. xxbos @united xxmaj calling xxmaj you 's xxup xxmaj . way . @united xxmaj 'm flight month day .</td>\n",
              "    </tr>\n",
              "    <tr>\n",
              "      <td>xxmaj we 've waited patiently , mention $ 150 six months marathon training , need 2 tmrw . xxbos @united</td>\n",
              "      <td>xxunk xxunk mean treat frequent fliers like crap . xxbos @united least 3 us xxup xxunk xxup ord waiting deplane</td>\n",
              "      <td>xxmaj xxmaj xxmaj ? customers flyer ? flyers . xxmaj @united xxmaj could hours xxunk us xxup xxunk xxup gate</td>\n",
              "    </tr>\n",
              "  </tbody>\n",
              "</table>"
            ],
            "text/plain": [
              "<IPython.core.display.HTML object>"
            ]
          },
          "metadata": {
            "tags": []
          }
        }
      ]
    },
    {
      "cell_type": "code",
      "metadata": {
        "colab_type": "code",
        "id": "GfxomVh-OK3j",
        "colab": {}
      },
      "source": [
        "\"\"\"\n",
        "Saving LM encoder\n",
        "\"\"\"\n",
        "learner.save_encoder('lm_enc')"
      ],
      "execution_count": 0,
      "outputs": []
    },
    {
      "cell_type": "markdown",
      "metadata": {
        "id": "yWTFsIuZL9O6",
        "colab_type": "text"
      },
      "source": [
        "## Classifier"
      ]
    },
    {
      "cell_type": "code",
      "metadata": {
        "colab_type": "code",
        "id": "PKTuWKqROK3d",
        "colab": {}
      },
      "source": [
        "\"\"\"\n",
        "Classifier model data\n",
        "\"\"\"\n",
        "classifier_data = TextClasDataBunch.from_df(path=\"\", train_df=df_train, valid_df=df_val, vocab=lm_data.train_ds.vocab, bs=32)"
      ],
      "execution_count": 0,
      "outputs": []
    },
    {
      "cell_type": "code",
      "metadata": {
        "colab_type": "code",
        "id": "BjNSwL_gOK3l",
        "outputId": "04d0609f-ef24-4ca1-e97c-a8275a8e1b2a",
        "colab": {
          "base_uri": "https://localhost:8080/",
          "height": 34
        }
      },
      "source": [
        "\"\"\"\n",
        "Creating classifier model with LM encoder weights\n",
        "\"\"\"\n",
        "learner = text_classifier_learner(classifier_data, drop_mult=1.5,arch=AWD_LSTM)\n",
        "learner.load_encoder('lm_enc')\n",
        "print('Done')"
      ],
      "execution_count": 102,
      "outputs": [
        {
          "output_type": "stream",
          "text": [
            "Done\n"
          ],
          "name": "stdout"
        }
      ]
    },
    {
      "cell_type": "code",
      "metadata": {
        "colab_type": "code",
        "outputId": "c02f6220-1fcf-471c-cad2-268f9d84c812",
        "id": "fAm9NMi3OK3n",
        "colab": {
          "base_uri": "https://localhost:8080/",
          "height": 80
        }
      },
      "source": [
        "\"\"\"\n",
        "Training classifier with gradual unfreezing and discriminative learning\n",
        "\"\"\"\n",
        "lr  = 1e-2\n",
        "lrm = 2.6\n",
        "lrs = np.array([lr/(lrm**4), lr/(lrm**3), lr/(lrm**2), lr/lrm, lr])\n",
        "learner.freeze_to(-1)\n",
        "learner.fit(1, lrs)\n",
        "learner.save('clas_0')"
      ],
      "execution_count": 103,
      "outputs": [
        {
          "output_type": "display_data",
          "data": {
            "text/html": [
              "<table border=\"1\" class=\"dataframe\">\n",
              "  <thead>\n",
              "    <tr style=\"text-align: left;\">\n",
              "      <th>epoch</th>\n",
              "      <th>train_loss</th>\n",
              "      <th>valid_loss</th>\n",
              "      <th>accuracy</th>\n",
              "      <th>time</th>\n",
              "    </tr>\n",
              "  </thead>\n",
              "  <tbody>\n",
              "    <tr>\n",
              "      <td>0</td>\n",
              "      <td>0.797672</td>\n",
              "      <td>0.638611</td>\n",
              "      <td>0.762251</td>\n",
              "      <td>00:03</td>\n",
              "    </tr>\n",
              "  </tbody>\n",
              "</table>"
            ],
            "text/plain": [
              "<IPython.core.display.HTML object>"
            ]
          },
          "metadata": {
            "tags": []
          }
        }
      ]
    },
    {
      "cell_type": "code",
      "metadata": {
        "id": "b88WPjDGPXEi",
        "colab_type": "code",
        "colab": {
          "base_uri": "https://localhost:8080/",
          "height": 142
        },
        "outputId": "c6b5a7b0-7620-4b72-e1aa-e94bdac7ae70"
      },
      "source": [
        "learner.freeze_to(-2)\n",
        "learner.fit(3, lrs)\n",
        "learner.save('clas_1')"
      ],
      "execution_count": 104,
      "outputs": [
        {
          "output_type": "display_data",
          "data": {
            "text/html": [
              "<table border=\"1\" class=\"dataframe\">\n",
              "  <thead>\n",
              "    <tr style=\"text-align: left;\">\n",
              "      <th>epoch</th>\n",
              "      <th>train_loss</th>\n",
              "      <th>valid_loss</th>\n",
              "      <th>accuracy</th>\n",
              "      <th>time</th>\n",
              "    </tr>\n",
              "  </thead>\n",
              "  <tbody>\n",
              "    <tr>\n",
              "      <td>0</td>\n",
              "      <td>0.753620</td>\n",
              "      <td>0.643058</td>\n",
              "      <td>0.721286</td>\n",
              "      <td>00:04</td>\n",
              "    </tr>\n",
              "    <tr>\n",
              "      <td>1</td>\n",
              "      <td>0.760092</td>\n",
              "      <td>0.538327</td>\n",
              "      <td>0.802833</td>\n",
              "      <td>00:04</td>\n",
              "    </tr>\n",
              "    <tr>\n",
              "      <td>2</td>\n",
              "      <td>0.746219</td>\n",
              "      <td>0.476710</td>\n",
              "      <td>0.832312</td>\n",
              "      <td>00:04</td>\n",
              "    </tr>\n",
              "  </tbody>\n",
              "</table>"
            ],
            "text/plain": [
              "<IPython.core.display.HTML object>"
            ]
          },
          "metadata": {
            "tags": []
          }
        }
      ]
    },
    {
      "cell_type": "code",
      "metadata": {
        "id": "6P7L6ce6PhMn",
        "colab_type": "code",
        "colab": {
          "base_uri": "https://localhost:8080/",
          "height": 1000
        },
        "outputId": "2c30454b-2b29-4a05-8586-cebe5900d6f0"
      },
      "source": [
        "learner.unfreeze()\n",
        "learner.fit_one_cycle(85, lrs)\n",
        "learner.save('clas_2')"
      ],
      "execution_count": 105,
      "outputs": [
        {
          "output_type": "display_data",
          "data": {
            "text/html": [
              "<table border=\"1\" class=\"dataframe\">\n",
              "  <thead>\n",
              "    <tr style=\"text-align: left;\">\n",
              "      <th>epoch</th>\n",
              "      <th>train_loss</th>\n",
              "      <th>valid_loss</th>\n",
              "      <th>accuracy</th>\n",
              "      <th>time</th>\n",
              "    </tr>\n",
              "  </thead>\n",
              "  <tbody>\n",
              "    <tr>\n",
              "      <td>0</td>\n",
              "      <td>0.704296</td>\n",
              "      <td>0.476889</td>\n",
              "      <td>0.830398</td>\n",
              "      <td>00:07</td>\n",
              "    </tr>\n",
              "    <tr>\n",
              "      <td>1</td>\n",
              "      <td>0.714671</td>\n",
              "      <td>0.471136</td>\n",
              "      <td>0.831547</td>\n",
              "      <td>00:07</td>\n",
              "    </tr>\n",
              "    <tr>\n",
              "      <td>2</td>\n",
              "      <td>0.706821</td>\n",
              "      <td>0.469644</td>\n",
              "      <td>0.832695</td>\n",
              "      <td>00:07</td>\n",
              "    </tr>\n",
              "    <tr>\n",
              "      <td>3</td>\n",
              "      <td>0.694477</td>\n",
              "      <td>0.471255</td>\n",
              "      <td>0.824273</td>\n",
              "      <td>00:07</td>\n",
              "    </tr>\n",
              "    <tr>\n",
              "      <td>4</td>\n",
              "      <td>0.706179</td>\n",
              "      <td>0.476596</td>\n",
              "      <td>0.818530</td>\n",
              "      <td>00:07</td>\n",
              "    </tr>\n",
              "    <tr>\n",
              "      <td>5</td>\n",
              "      <td>0.734919</td>\n",
              "      <td>0.473537</td>\n",
              "      <td>0.823507</td>\n",
              "      <td>00:07</td>\n",
              "    </tr>\n",
              "    <tr>\n",
              "      <td>6</td>\n",
              "      <td>0.683292</td>\n",
              "      <td>0.465431</td>\n",
              "      <td>0.830015</td>\n",
              "      <td>00:07</td>\n",
              "    </tr>\n",
              "    <tr>\n",
              "      <td>7</td>\n",
              "      <td>0.678459</td>\n",
              "      <td>0.452379</td>\n",
              "      <td>0.835758</td>\n",
              "      <td>00:07</td>\n",
              "    </tr>\n",
              "    <tr>\n",
              "      <td>8</td>\n",
              "      <td>0.681269</td>\n",
              "      <td>0.444570</td>\n",
              "      <td>0.835375</td>\n",
              "      <td>00:07</td>\n",
              "    </tr>\n",
              "    <tr>\n",
              "      <td>9</td>\n",
              "      <td>0.706382</td>\n",
              "      <td>0.465955</td>\n",
              "      <td>0.823507</td>\n",
              "      <td>00:07</td>\n",
              "    </tr>\n",
              "    <tr>\n",
              "      <td>10</td>\n",
              "      <td>0.722582</td>\n",
              "      <td>0.459115</td>\n",
              "      <td>0.829632</td>\n",
              "      <td>00:07</td>\n",
              "    </tr>\n",
              "    <tr>\n",
              "      <td>11</td>\n",
              "      <td>0.660384</td>\n",
              "      <td>0.428885</td>\n",
              "      <td>0.837289</td>\n",
              "      <td>00:07</td>\n",
              "    </tr>\n",
              "    <tr>\n",
              "      <td>12</td>\n",
              "      <td>0.656531</td>\n",
              "      <td>0.442661</td>\n",
              "      <td>0.830398</td>\n",
              "      <td>00:07</td>\n",
              "    </tr>\n",
              "    <tr>\n",
              "      <td>13</td>\n",
              "      <td>0.668520</td>\n",
              "      <td>0.442257</td>\n",
              "      <td>0.830398</td>\n",
              "      <td>00:07</td>\n",
              "    </tr>\n",
              "    <tr>\n",
              "      <td>14</td>\n",
              "      <td>0.637068</td>\n",
              "      <td>0.437914</td>\n",
              "      <td>0.825038</td>\n",
              "      <td>00:07</td>\n",
              "    </tr>\n",
              "    <tr>\n",
              "      <td>15</td>\n",
              "      <td>0.625910</td>\n",
              "      <td>0.418322</td>\n",
              "      <td>0.836141</td>\n",
              "      <td>00:07</td>\n",
              "    </tr>\n",
              "    <tr>\n",
              "      <td>16</td>\n",
              "      <td>0.646075</td>\n",
              "      <td>0.435841</td>\n",
              "      <td>0.824655</td>\n",
              "      <td>00:07</td>\n",
              "    </tr>\n",
              "    <tr>\n",
              "      <td>17</td>\n",
              "      <td>0.614116</td>\n",
              "      <td>0.398507</td>\n",
              "      <td>0.842266</td>\n",
              "      <td>00:07</td>\n",
              "    </tr>\n",
              "    <tr>\n",
              "      <td>18</td>\n",
              "      <td>0.596206</td>\n",
              "      <td>0.388112</td>\n",
              "      <td>0.844564</td>\n",
              "      <td>00:07</td>\n",
              "    </tr>\n",
              "    <tr>\n",
              "      <td>19</td>\n",
              "      <td>0.626889</td>\n",
              "      <td>0.379416</td>\n",
              "      <td>0.859495</td>\n",
              "      <td>00:07</td>\n",
              "    </tr>\n",
              "    <tr>\n",
              "      <td>20</td>\n",
              "      <td>0.654539</td>\n",
              "      <td>0.374624</td>\n",
              "      <td>0.862557</td>\n",
              "      <td>00:07</td>\n",
              "    </tr>\n",
              "    <tr>\n",
              "      <td>21</td>\n",
              "      <td>0.645036</td>\n",
              "      <td>0.373738</td>\n",
              "      <td>0.855283</td>\n",
              "      <td>00:07</td>\n",
              "    </tr>\n",
              "    <tr>\n",
              "      <td>22</td>\n",
              "      <td>0.593089</td>\n",
              "      <td>0.384374</td>\n",
              "      <td>0.841884</td>\n",
              "      <td>00:07</td>\n",
              "    </tr>\n",
              "    <tr>\n",
              "      <td>23</td>\n",
              "      <td>0.569751</td>\n",
              "      <td>0.343781</td>\n",
              "      <td>0.864472</td>\n",
              "      <td>00:07</td>\n",
              "    </tr>\n",
              "    <tr>\n",
              "      <td>24</td>\n",
              "      <td>0.577887</td>\n",
              "      <td>0.389794</td>\n",
              "      <td>0.867152</td>\n",
              "      <td>00:07</td>\n",
              "    </tr>\n",
              "    <tr>\n",
              "      <td>25</td>\n",
              "      <td>0.637682</td>\n",
              "      <td>0.355909</td>\n",
              "      <td>0.869832</td>\n",
              "      <td>00:07</td>\n",
              "    </tr>\n",
              "    <tr>\n",
              "      <td>26</td>\n",
              "      <td>0.606860</td>\n",
              "      <td>0.352897</td>\n",
              "      <td>0.869449</td>\n",
              "      <td>00:07</td>\n",
              "    </tr>\n",
              "    <tr>\n",
              "      <td>27</td>\n",
              "      <td>0.579701</td>\n",
              "      <td>0.345286</td>\n",
              "      <td>0.872129</td>\n",
              "      <td>00:07</td>\n",
              "    </tr>\n",
              "    <tr>\n",
              "      <td>28</td>\n",
              "      <td>0.565891</td>\n",
              "      <td>0.321931</td>\n",
              "      <td>0.879786</td>\n",
              "      <td>00:07</td>\n",
              "    </tr>\n",
              "    <tr>\n",
              "      <td>29</td>\n",
              "      <td>0.551685</td>\n",
              "      <td>0.342657</td>\n",
              "      <td>0.873277</td>\n",
              "      <td>00:07</td>\n",
              "    </tr>\n",
              "    <tr>\n",
              "      <td>30</td>\n",
              "      <td>0.545293</td>\n",
              "      <td>0.364290</td>\n",
              "      <td>0.850689</td>\n",
              "      <td>00:07</td>\n",
              "    </tr>\n",
              "    <tr>\n",
              "      <td>31</td>\n",
              "      <td>0.538715</td>\n",
              "      <td>0.334157</td>\n",
              "      <td>0.870214</td>\n",
              "      <td>00:07</td>\n",
              "    </tr>\n",
              "    <tr>\n",
              "      <td>32</td>\n",
              "      <td>0.541359</td>\n",
              "      <td>0.344007</td>\n",
              "      <td>0.878637</td>\n",
              "      <td>00:07</td>\n",
              "    </tr>\n",
              "    <tr>\n",
              "      <td>33</td>\n",
              "      <td>0.521792</td>\n",
              "      <td>0.323464</td>\n",
              "      <td>0.880551</td>\n",
              "      <td>00:07</td>\n",
              "    </tr>\n",
              "    <tr>\n",
              "      <td>34</td>\n",
              "      <td>0.498205</td>\n",
              "      <td>0.307108</td>\n",
              "      <td>0.888208</td>\n",
              "      <td>00:07</td>\n",
              "    </tr>\n",
              "    <tr>\n",
              "      <td>35</td>\n",
              "      <td>0.490548</td>\n",
              "      <td>0.311660</td>\n",
              "      <td>0.881700</td>\n",
              "      <td>00:07</td>\n",
              "    </tr>\n",
              "    <tr>\n",
              "      <td>36</td>\n",
              "      <td>0.473722</td>\n",
              "      <td>0.306065</td>\n",
              "      <td>0.885145</td>\n",
              "      <td>00:07</td>\n",
              "    </tr>\n",
              "    <tr>\n",
              "      <td>37</td>\n",
              "      <td>0.471594</td>\n",
              "      <td>0.305752</td>\n",
              "      <td>0.890888</td>\n",
              "      <td>00:07</td>\n",
              "    </tr>\n",
              "    <tr>\n",
              "      <td>38</td>\n",
              "      <td>0.469157</td>\n",
              "      <td>0.306554</td>\n",
              "      <td>0.893185</td>\n",
              "      <td>00:07</td>\n",
              "    </tr>\n",
              "    <tr>\n",
              "      <td>39</td>\n",
              "      <td>0.444189</td>\n",
              "      <td>0.301931</td>\n",
              "      <td>0.893568</td>\n",
              "      <td>00:07</td>\n",
              "    </tr>\n",
              "    <tr>\n",
              "      <td>40</td>\n",
              "      <td>0.452872</td>\n",
              "      <td>0.306033</td>\n",
              "      <td>0.900842</td>\n",
              "      <td>00:07</td>\n",
              "    </tr>\n",
              "    <tr>\n",
              "      <td>41</td>\n",
              "      <td>0.454096</td>\n",
              "      <td>0.309542</td>\n",
              "      <td>0.895482</td>\n",
              "      <td>00:07</td>\n",
              "    </tr>\n",
              "    <tr>\n",
              "      <td>42</td>\n",
              "      <td>0.405941</td>\n",
              "      <td>0.293359</td>\n",
              "      <td>0.895482</td>\n",
              "      <td>00:07</td>\n",
              "    </tr>\n",
              "    <tr>\n",
              "      <td>43</td>\n",
              "      <td>0.421690</td>\n",
              "      <td>0.289653</td>\n",
              "      <td>0.893951</td>\n",
              "      <td>00:07</td>\n",
              "    </tr>\n",
              "    <tr>\n",
              "      <td>44</td>\n",
              "      <td>0.437195</td>\n",
              "      <td>0.302442</td>\n",
              "      <td>0.892420</td>\n",
              "      <td>00:07</td>\n",
              "    </tr>\n",
              "    <tr>\n",
              "      <td>45</td>\n",
              "      <td>0.400386</td>\n",
              "      <td>0.288765</td>\n",
              "      <td>0.900077</td>\n",
              "      <td>00:07</td>\n",
              "    </tr>\n",
              "    <tr>\n",
              "      <td>46</td>\n",
              "      <td>0.385240</td>\n",
              "      <td>0.299947</td>\n",
              "      <td>0.899311</td>\n",
              "      <td>00:07</td>\n",
              "    </tr>\n",
              "    <tr>\n",
              "      <td>47</td>\n",
              "      <td>0.394601</td>\n",
              "      <td>0.292747</td>\n",
              "      <td>0.897397</td>\n",
              "      <td>00:08</td>\n",
              "    </tr>\n",
              "    <tr>\n",
              "      <td>48</td>\n",
              "      <td>0.405337</td>\n",
              "      <td>0.301266</td>\n",
              "      <td>0.900842</td>\n",
              "      <td>00:07</td>\n",
              "    </tr>\n",
              "    <tr>\n",
              "      <td>49</td>\n",
              "      <td>0.386591</td>\n",
              "      <td>0.288648</td>\n",
              "      <td>0.900459</td>\n",
              "      <td>00:07</td>\n",
              "    </tr>\n",
              "    <tr>\n",
              "      <td>50</td>\n",
              "      <td>0.370321</td>\n",
              "      <td>0.281575</td>\n",
              "      <td>0.898928</td>\n",
              "      <td>00:07</td>\n",
              "    </tr>\n",
              "    <tr>\n",
              "      <td>51</td>\n",
              "      <td>0.381173</td>\n",
              "      <td>0.296341</td>\n",
              "      <td>0.895482</td>\n",
              "      <td>00:08</td>\n",
              "    </tr>\n",
              "    <tr>\n",
              "      <td>52</td>\n",
              "      <td>0.356282</td>\n",
              "      <td>0.273863</td>\n",
              "      <td>0.900842</td>\n",
              "      <td>00:07</td>\n",
              "    </tr>\n",
              "    <tr>\n",
              "      <td>53</td>\n",
              "      <td>0.356443</td>\n",
              "      <td>0.282208</td>\n",
              "      <td>0.896631</td>\n",
              "      <td>00:07</td>\n",
              "    </tr>\n",
              "    <tr>\n",
              "      <td>54</td>\n",
              "      <td>0.326095</td>\n",
              "      <td>0.284123</td>\n",
              "      <td>0.898928</td>\n",
              "      <td>00:07</td>\n",
              "    </tr>\n",
              "    <tr>\n",
              "      <td>55</td>\n",
              "      <td>0.347015</td>\n",
              "      <td>0.270662</td>\n",
              "      <td>0.903905</td>\n",
              "      <td>00:07</td>\n",
              "    </tr>\n",
              "    <tr>\n",
              "      <td>56</td>\n",
              "      <td>0.341285</td>\n",
              "      <td>0.273180</td>\n",
              "      <td>0.903905</td>\n",
              "      <td>00:08</td>\n",
              "    </tr>\n",
              "    <tr>\n",
              "      <td>57</td>\n",
              "      <td>0.345534</td>\n",
              "      <td>0.283518</td>\n",
              "      <td>0.892802</td>\n",
              "      <td>00:07</td>\n",
              "    </tr>\n",
              "    <tr>\n",
              "      <td>58</td>\n",
              "      <td>0.338836</td>\n",
              "      <td>0.275747</td>\n",
              "      <td>0.906585</td>\n",
              "      <td>00:07</td>\n",
              "    </tr>\n",
              "    <tr>\n",
              "      <td>59</td>\n",
              "      <td>0.349403</td>\n",
              "      <td>0.277102</td>\n",
              "      <td>0.904288</td>\n",
              "      <td>00:07</td>\n",
              "    </tr>\n",
              "    <tr>\n",
              "      <td>60</td>\n",
              "      <td>0.382849</td>\n",
              "      <td>0.299867</td>\n",
              "      <td>0.905436</td>\n",
              "      <td>00:07</td>\n",
              "    </tr>\n",
              "    <tr>\n",
              "      <td>61</td>\n",
              "      <td>0.325437</td>\n",
              "      <td>0.278398</td>\n",
              "      <td>0.903139</td>\n",
              "      <td>00:07</td>\n",
              "    </tr>\n",
              "    <tr>\n",
              "      <td>62</td>\n",
              "      <td>0.345373</td>\n",
              "      <td>0.278740</td>\n",
              "      <td>0.906585</td>\n",
              "      <td>00:07</td>\n",
              "    </tr>\n",
              "    <tr>\n",
              "      <td>63</td>\n",
              "      <td>0.324009</td>\n",
              "      <td>0.272119</td>\n",
              "      <td>0.906585</td>\n",
              "      <td>00:07</td>\n",
              "    </tr>\n",
              "    <tr>\n",
              "      <td>64</td>\n",
              "      <td>0.309175</td>\n",
              "      <td>0.277499</td>\n",
              "      <td>0.906968</td>\n",
              "      <td>00:07</td>\n",
              "    </tr>\n",
              "    <tr>\n",
              "      <td>65</td>\n",
              "      <td>0.307678</td>\n",
              "      <td>0.272367</td>\n",
              "      <td>0.905436</td>\n",
              "      <td>00:07</td>\n",
              "    </tr>\n",
              "    <tr>\n",
              "      <td>66</td>\n",
              "      <td>0.344859</td>\n",
              "      <td>0.270249</td>\n",
              "      <td>0.906585</td>\n",
              "      <td>00:07</td>\n",
              "    </tr>\n",
              "    <tr>\n",
              "      <td>67</td>\n",
              "      <td>0.317908</td>\n",
              "      <td>0.275466</td>\n",
              "      <td>0.903905</td>\n",
              "      <td>00:07</td>\n",
              "    </tr>\n",
              "    <tr>\n",
              "      <td>68</td>\n",
              "      <td>0.299124</td>\n",
              "      <td>0.283487</td>\n",
              "      <td>0.904288</td>\n",
              "      <td>00:07</td>\n",
              "    </tr>\n",
              "    <tr>\n",
              "      <td>69</td>\n",
              "      <td>0.301970</td>\n",
              "      <td>0.274922</td>\n",
              "      <td>0.901608</td>\n",
              "      <td>00:07</td>\n",
              "    </tr>\n",
              "    <tr>\n",
              "      <td>70</td>\n",
              "      <td>0.291484</td>\n",
              "      <td>0.264944</td>\n",
              "      <td>0.905436</td>\n",
              "      <td>00:07</td>\n",
              "    </tr>\n",
              "    <tr>\n",
              "      <td>71</td>\n",
              "      <td>0.310474</td>\n",
              "      <td>0.270599</td>\n",
              "      <td>0.905819</td>\n",
              "      <td>00:07</td>\n",
              "    </tr>\n",
              "    <tr>\n",
              "      <td>72</td>\n",
              "      <td>0.299232</td>\n",
              "      <td>0.265365</td>\n",
              "      <td>0.907734</td>\n",
              "      <td>00:07</td>\n",
              "    </tr>\n",
              "    <tr>\n",
              "      <td>73</td>\n",
              "      <td>0.277218</td>\n",
              "      <td>0.264219</td>\n",
              "      <td>0.907734</td>\n",
              "      <td>00:07</td>\n",
              "    </tr>\n",
              "    <tr>\n",
              "      <td>74</td>\n",
              "      <td>0.284184</td>\n",
              "      <td>0.264111</td>\n",
              "      <td>0.909648</td>\n",
              "      <td>00:07</td>\n",
              "    </tr>\n",
              "    <tr>\n",
              "      <td>75</td>\n",
              "      <td>0.280689</td>\n",
              "      <td>0.265803</td>\n",
              "      <td>0.906585</td>\n",
              "      <td>00:07</td>\n",
              "    </tr>\n",
              "    <tr>\n",
              "      <td>76</td>\n",
              "      <td>0.319296</td>\n",
              "      <td>0.267908</td>\n",
              "      <td>0.909648</td>\n",
              "      <td>00:07</td>\n",
              "    </tr>\n",
              "    <tr>\n",
              "      <td>77</td>\n",
              "      <td>0.286542</td>\n",
              "      <td>0.264517</td>\n",
              "      <td>0.909265</td>\n",
              "      <td>00:07</td>\n",
              "    </tr>\n",
              "    <tr>\n",
              "      <td>78</td>\n",
              "      <td>0.308992</td>\n",
              "      <td>0.265920</td>\n",
              "      <td>0.910796</td>\n",
              "      <td>00:07</td>\n",
              "    </tr>\n",
              "    <tr>\n",
              "      <td>79</td>\n",
              "      <td>0.288648</td>\n",
              "      <td>0.264840</td>\n",
              "      <td>0.913859</td>\n",
              "      <td>00:07</td>\n",
              "    </tr>\n",
              "    <tr>\n",
              "      <td>80</td>\n",
              "      <td>0.288886</td>\n",
              "      <td>0.266222</td>\n",
              "      <td>0.913093</td>\n",
              "      <td>00:07</td>\n",
              "    </tr>\n",
              "    <tr>\n",
              "      <td>81</td>\n",
              "      <td>0.280153</td>\n",
              "      <td>0.266129</td>\n",
              "      <td>0.908116</td>\n",
              "      <td>00:07</td>\n",
              "    </tr>\n",
              "    <tr>\n",
              "      <td>82</td>\n",
              "      <td>0.267163</td>\n",
              "      <td>0.263880</td>\n",
              "      <td>0.912328</td>\n",
              "      <td>00:07</td>\n",
              "    </tr>\n",
              "    <tr>\n",
              "      <td>83</td>\n",
              "      <td>0.266914</td>\n",
              "      <td>0.264140</td>\n",
              "      <td>0.911945</td>\n",
              "      <td>00:07</td>\n",
              "    </tr>\n",
              "    <tr>\n",
              "      <td>84</td>\n",
              "      <td>0.300389</td>\n",
              "      <td>0.264634</td>\n",
              "      <td>0.912711</td>\n",
              "      <td>00:07</td>\n",
              "    </tr>\n",
              "    <tr>\n",
              "      <td>85</td>\n",
              "      <td>0.283430</td>\n",
              "      <td>0.263421</td>\n",
              "      <td>0.911562</td>\n",
              "      <td>00:07</td>\n",
              "    </tr>\n",
              "    <tr>\n",
              "      <td>86</td>\n",
              "      <td>0.256492</td>\n",
              "      <td>0.264690</td>\n",
              "      <td>0.911945</td>\n",
              "      <td>00:07</td>\n",
              "    </tr>\n",
              "    <tr>\n",
              "      <td>87</td>\n",
              "      <td>0.285674</td>\n",
              "      <td>0.263525</td>\n",
              "      <td>0.909648</td>\n",
              "      <td>00:08</td>\n",
              "    </tr>\n",
              "    <tr>\n",
              "      <td>88</td>\n",
              "      <td>0.296320</td>\n",
              "      <td>0.266478</td>\n",
              "      <td>0.908116</td>\n",
              "      <td>00:07</td>\n",
              "    </tr>\n",
              "    <tr>\n",
              "      <td>89</td>\n",
              "      <td>0.290694</td>\n",
              "      <td>0.265009</td>\n",
              "      <td>0.910796</td>\n",
              "      <td>00:07</td>\n",
              "    </tr>\n",
              "  </tbody>\n",
              "</table>"
            ],
            "text/plain": [
              "<IPython.core.display.HTML object>"
            ]
          },
          "metadata": {
            "tags": []
          }
        }
      ]
    },
    {
      "cell_type": "code",
      "metadata": {
        "id": "x_EktDH8YS00",
        "colab_type": "code",
        "colab": {
          "base_uri": "https://localhost:8080/",
          "height": 279
        },
        "outputId": "ae86981e-2a5b-4574-8eb7-381e0bb39108"
      },
      "source": [
        "learner.recorder.plot_losses()"
      ],
      "execution_count": 95,
      "outputs": [
        {
          "output_type": "display_data",
          "data": {
            "image/png": "[encoded data removed]",
            "text/plain": [
              "<Figure size 432x288 with 1 Axes>"
            ]
          },
          "metadata": {
            "tags": []
          }
        }
      ]
    },
    {
      "cell_type": "markdown",
      "metadata": {
        "id": "Dg2Knyb6L5y8",
        "colab_type": "text"
      },
      "source": [
        "## Results"
      ]
    },
    {
      "cell_type": "code",
      "metadata": {
        "colab_type": "code",
        "id": "e72Mfe0FOK3p",
        "colab": {}
      },
      "source": [
        "\"\"\"\n",
        "Predictions\n",
        "\"\"\"\n",
        "preds, targets = learner.get_preds()\n",
        "predictions = np.argmax(preds, axis = 1)"
      ],
      "execution_count": 0,
      "outputs": []
    },
    {
      "cell_type": "code",
      "metadata": {
        "colab_type": "code",
        "outputId": "76a3b4ee-ebba-443c-a0bd-392fe93c395f",
        "id": "6EKk4AH_OK3r",
        "colab": {
          "base_uri": "https://localhost:8080/",
          "height": 102
        }
      },
      "source": [
        "\"\"\"\n",
        "Confusion Matrix\n",
        "\"\"\"\n",
        "cm = pd.crosstab(predictions, targets)\n",
        "print(cm)"
      ],
      "execution_count": 107,
      "outputs": [
        {
          "output_type": "stream",
          "text": [
            "col_0     0    1    2\n",
            "row_0                \n",
            "0      1767   90   29\n",
            "1        54  274   12\n",
            "2        25   23  338\n"
          ],
          "name": "stdout"
        }
      ]
    },
    {
      "cell_type": "code",
      "metadata": {
        "colab_type": "code",
        "outputId": "8fdd43f8-9533-481b-cbce-267f7191b6e5",
        "id": "UUmVAuyhR-uR",
        "colab": {
          "base_uri": "https://localhost:8080/",
          "height": 34
        }
      },
      "source": [
        "\"\"\"\n",
        "Accuracy\n",
        "\"\"\"\n",
        "acc = np.sum([cm[i][i] for i in range(3)])/np.sum(np.sum(cm))\n",
        "print('Accuracy: %.3f'%acc)"
      ],
      "execution_count": 108,
      "outputs": [
        {
          "output_type": "stream",
          "text": [
            "0.9108\n"
          ],
          "name": "stdout"
        }
      ]
    },
    {
      "cell_type": "code",
      "metadata": {
        "colab_type": "code",
        "outputId": "b16cc6de-6fcb-4132-978d-ea74a66f007d",
        "id": "wJXTgVcER-uu",
        "colab": {
          "base_uri": "https://localhost:8080/",
          "height": 34
        }
      },
      "source": [
        "\"\"\"\n",
        "Precision\n",
        "\"\"\"\n",
        "prec = [0 for i in range(3)]\n",
        "for i in range(3):\n",
        "    prec[i] = round(cm[i][i]/np.sum(cm,axis=1)[i],3)\n",
        "print(prec)"
      ],
      "execution_count": 109,
      "outputs": [
        {
          "output_type": "stream",
          "text": [
            "[0.937, 0.806, 0.876]\n"
          ],
          "name": "stdout"
        }
      ]
    },
    {
      "cell_type": "code",
      "metadata": {
        "colab_type": "code",
        "outputId": "7d819490-da61-486b-fe88-53851f6fbb6a",
        "id": "cPgq67OiR-uw",
        "colab": {
          "base_uri": "https://localhost:8080/",
          "height": 34
        }
      },
      "source": [
        "\"\"\"\n",
        "Recall\n",
        "\"\"\"\n",
        "rec = [0 for i in range(3)]\n",
        "for i in range(3):\n",
        "    rec[i] = round(cm[i][i]/np.sum(cm)[i],3)\n",
        "print(rec)"
      ],
      "execution_count": 110,
      "outputs": [
        {
          "output_type": "stream",
          "text": [
            "[0.957, 0.708, 0.892]\n"
          ],
          "name": "stdout"
        }
      ]
    },
    {
      "cell_type": "code",
      "metadata": {
        "colab_type": "code",
        "outputId": "3f34cf65-bdf7-46d4-9eb1-daf21c3c50bd",
        "id": "nRNTk05AR-uy",
        "colab": {
          "base_uri": "https://localhost:8080/",
          "height": 34
        }
      },
      "source": [
        "\"\"\"\n",
        "F1 score\n",
        "\"\"\"\n",
        "f1 = [round(2*prec[i]*rec[i]/(prec[i]+rec[i]),3) for i in range(3)]\n",
        "print(f1)"
      ],
      "execution_count": 111,
      "outputs": [
        {
          "output_type": "stream",
          "text": [
            "[0.947, 0.754, 0.884]\n"
          ],
          "name": "stdout"
        }
      ]
    },
    {
      "cell_type": "markdown",
      "metadata": {
        "id": "TRKLyxYs9edb",
        "colab_type": "text"
      },
      "source": [
        "# Balanced Dataset"
      ]
    },
    {
      "cell_type": "markdown",
      "metadata": {
        "id": "HE9EximbMV1a",
        "colab_type": "text"
      },
      "source": [
        "## Preprocessing"
      ]
    },
    {
      "cell_type": "code",
      "metadata": {
        "id": "SqUfz0M7-vnP",
        "colab_type": "code",
        "colab": {}
      },
      "source": [
        "\"\"\"\n",
        "Balancing data: keeping only 30% of 'negative' class\n",
        "\"\"\"\n",
        "df_neg = df[df['label']=='negative']\n",
        "df_neg = df_neg.sample(frac=0.3).reset_index(drop = True)\n",
        "\n",
        "df_non_neg = df[df['label']!='negative'].reset_index(drop = True)\n",
        "\n",
        "df = pd.concat([df_neg,df_non_neg],axis=0).reset_index(drop = True)\n",
        "df = df.sample(frac=1).reset_index(drop = True)"
      ],
      "execution_count": 0,
      "outputs": []
    },
    {
      "cell_type": "code",
      "metadata": {
        "id": "EuWGkk4r7EBU",
        "colab_type": "code",
        "outputId": "4528587f-900f-4419-88f8-802f7783c84b",
        "colab": {
          "base_uri": "https://localhost:8080/",
          "height": 85
        }
      },
      "source": [
        "print(df['label'].value_counts())"
      ],
      "execution_count": 113,
      "outputs": [
        {
          "output_type": "stream",
          "text": [
            "negative    2215\n",
            "neutral     1548\n",
            "positive    1515\n",
            "Name: label, dtype: int64\n"
          ],
          "name": "stdout"
        }
      ]
    },
    {
      "cell_type": "code",
      "metadata": {
        "id": "TDylRulG7FcE",
        "colab_type": "code",
        "outputId": "762b1ca1-3ee9-483e-8b74-372c29062960",
        "colab": {
          "base_uri": "https://localhost:8080/",
          "height": 34
        }
      },
      "source": [
        "\"\"\"\n",
        "Removing special characters\n",
        "\"\"\"\n",
        "# df['text'] = df['text'].str.replace(\"[^a-zA-Z0-9]\", \" \")"
      ],
      "execution_count": 114,
      "outputs": [
        {
          "output_type": "execute_result",
          "data": {
            "text/plain": [
              "'\\nRemoving special characters\\n'"
            ]
          },
          "metadata": {
            "tags": []
          },
          "execution_count": 114
        }
      ]
    },
    {
      "cell_type": "code",
      "metadata": {
        "id": "Zt4jA8dPIeNq",
        "colab_type": "code",
        "colab": {}
      },
      "source": [
        "\"\"\"\n",
        "Tokenizing and stopword removal\n",
        "\"\"\" \n",
        "tokenized_corp = df['text'].transform(lambda x: x.split())\n",
        "stop_words = set(stopwords.words('english'))\n",
        "tokenized_corp = tokenized_corp.transform(lambda x: [item for item in x if item not in stop_words])"
      ],
      "execution_count": 0,
      "outputs": []
    },
    {
      "cell_type": "code",
      "metadata": {
        "id": "j1a1YWTf7Og0",
        "colab_type": "code",
        "colab": {}
      },
      "source": [
        "\"\"\"\n",
        "De-Tokenizing\n",
        "\"\"\"\n",
        "detokenized_corp = [] \n",
        "for i in range(len(df)): \n",
        "    t = ' '.join(tokenized_corp[i]) \n",
        "    detokenized_corp.append(t) \n",
        "\n",
        "df['text'] = detokenized_corp"
      ],
      "execution_count": 0,
      "outputs": []
    },
    {
      "cell_type": "code",
      "metadata": {
        "id": "z2EmPJqt7UOh",
        "colab_type": "code",
        "colab": {}
      },
      "source": [
        "\"\"\"\n",
        "Split into training and validation set\n",
        "\"\"\"\n",
        "df_train,df_val = train_test_split(df, stratify=df['label'], test_size=0.25)"
      ],
      "execution_count": 0,
      "outputs": []
    },
    {
      "cell_type": "code",
      "metadata": {
        "id": "K9prC_Fn7WYx",
        "colab_type": "code",
        "outputId": "f6cfe41b-df07-4c6a-9a9b-cc69c7f51ff8",
        "colab": {
          "base_uri": "https://localhost:8080/",
          "height": 51
        }
      },
      "source": [
        "print(df_train.shape)\n",
        "print(df_val.shape)"
      ],
      "execution_count": 118,
      "outputs": [
        {
          "output_type": "stream",
          "text": [
            "(3958, 2)\n",
            "(1320, 2)\n"
          ],
          "name": "stdout"
        }
      ]
    },
    {
      "cell_type": "markdown",
      "metadata": {
        "id": "HOgwXhUtMYoo",
        "colab_type": "text"
      },
      "source": [
        "## Classifier"
      ]
    },
    {
      "cell_type": "code",
      "metadata": {
        "id": "wKCjnXOf7fYZ",
        "colab_type": "code",
        "colab": {}
      },
      "source": [
        "\"\"\"\n",
        "Classifier model data\n",
        "\"\"\"\n",
        "classifier_data = TextClasDataBunch.from_df(path=\"\", train_df=df_train, valid_df=df_val, vocab=lm_data.train_ds.vocab, bs=32)"
      ],
      "execution_count": 0,
      "outputs": []
    },
    {
      "cell_type": "code",
      "metadata": {
        "colab_type": "code",
        "outputId": "0c7ab166-e210-4132-e6a4-3cbcc2a3ef42",
        "id": "Ass5reLMJjXO",
        "colab": {
          "base_uri": "https://localhost:8080/",
          "height": 34
        }
      },
      "source": [
        "\"\"\"\n",
        "Creating classifier model with LM encoder weights\n",
        "\"\"\"\n",
        "learner = text_classifier_learner(classifier_data, drop_mult=1.5,arch=AWD_LSTM)\n",
        "learner.load_encoder('lm_enc')\n",
        "print('Done')"
      ],
      "execution_count": 120,
      "outputs": [
        {
          "output_type": "stream",
          "text": [
            "Done\n"
          ],
          "name": "stdout"
        }
      ]
    },
    {
      "cell_type": "code",
      "metadata": {
        "colab_type": "code",
        "outputId": "ab11eeb9-6d78-4438-a8e6-afb1b407fbad",
        "id": "DJgkMImsJjXS",
        "colab": {
          "base_uri": "https://localhost:8080/",
          "height": 80
        }
      },
      "source": [
        "\"\"\"\n",
        "Training classifier with gradual unfreezing and discriminative learning\n",
        "\"\"\"\n",
        "lr  = 1e-2\n",
        "lrm = 2.6\n",
        "lrs = np.array([lr/(lrm**4), lr/(lrm**3), lr/(lrm**2), lr/lrm, lr])\n",
        "learner.freeze_to(-1)\n",
        "learner.fit(1, lrs)\n",
        "learner.save('clas_0')"
      ],
      "execution_count": 121,
      "outputs": [
        {
          "output_type": "display_data",
          "data": {
            "text/html": [
              "<table border=\"1\" class=\"dataframe\">\n",
              "  <thead>\n",
              "    <tr style=\"text-align: left;\">\n",
              "      <th>epoch</th>\n",
              "      <th>train_loss</th>\n",
              "      <th>valid_loss</th>\n",
              "      <th>accuracy</th>\n",
              "      <th>time</th>\n",
              "    </tr>\n",
              "  </thead>\n",
              "  <tbody>\n",
              "    <tr>\n",
              "      <td>0</td>\n",
              "      <td>1.066612</td>\n",
              "      <td>0.812059</td>\n",
              "      <td>0.644697</td>\n",
              "      <td>00:02</td>\n",
              "    </tr>\n",
              "  </tbody>\n",
              "</table>"
            ],
            "text/plain": [
              "<IPython.core.display.HTML object>"
            ]
          },
          "metadata": {
            "tags": []
          }
        }
      ]
    },
    {
      "cell_type": "code",
      "metadata": {
        "colab_type": "code",
        "outputId": "7227b16d-8b4f-444c-eb19-6abb884114bd",
        "id": "LkFbaUIhJjXU",
        "colab": {
          "base_uri": "https://localhost:8080/",
          "height": 142
        }
      },
      "source": [
        "learner.freeze_to(-2)\n",
        "learner.fit(3, lrs)\n",
        "learner.save('clas_1')"
      ],
      "execution_count": 122,
      "outputs": [
        {
          "output_type": "display_data",
          "data": {
            "text/html": [
              "<table border=\"1\" class=\"dataframe\">\n",
              "  <thead>\n",
              "    <tr style=\"text-align: left;\">\n",
              "      <th>epoch</th>\n",
              "      <th>train_loss</th>\n",
              "      <th>valid_loss</th>\n",
              "      <th>accuracy</th>\n",
              "      <th>time</th>\n",
              "    </tr>\n",
              "  </thead>\n",
              "  <tbody>\n",
              "    <tr>\n",
              "      <td>0</td>\n",
              "      <td>0.991844</td>\n",
              "      <td>0.797230</td>\n",
              "      <td>0.646212</td>\n",
              "      <td>00:02</td>\n",
              "    </tr>\n",
              "    <tr>\n",
              "      <td>1</td>\n",
              "      <td>0.996102</td>\n",
              "      <td>0.764002</td>\n",
              "      <td>0.697727</td>\n",
              "      <td>00:02</td>\n",
              "    </tr>\n",
              "    <tr>\n",
              "      <td>2</td>\n",
              "      <td>0.963760</td>\n",
              "      <td>0.711355</td>\n",
              "      <td>0.717424</td>\n",
              "      <td>00:02</td>\n",
              "    </tr>\n",
              "  </tbody>\n",
              "</table>"
            ],
            "text/plain": [
              "<IPython.core.display.HTML object>"
            ]
          },
          "metadata": {
            "tags": []
          }
        }
      ]
    },
    {
      "cell_type": "code",
      "metadata": {
        "colab_type": "code",
        "outputId": "bba9372c-cbda-4234-f033-16d58d77ef26",
        "id": "MTiG3vqoJjXY",
        "colab": {
          "base_uri": "https://localhost:8080/",
          "height": 1000
        }
      },
      "source": [
        "learner.unfreeze()\n",
        "learner.fit_one_cycle(85, lrs)\n",
        "learner.save('clas_2')"
      ],
      "execution_count": 123,
      "outputs": [
        {
          "output_type": "display_data",
          "data": {
            "text/html": [
              "<table border=\"1\" class=\"dataframe\">\n",
              "  <thead>\n",
              "    <tr style=\"text-align: left;\">\n",
              "      <th>epoch</th>\n",
              "      <th>train_loss</th>\n",
              "      <th>valid_loss</th>\n",
              "      <th>accuracy</th>\n",
              "      <th>time</th>\n",
              "    </tr>\n",
              "  </thead>\n",
              "  <tbody>\n",
              "    <tr>\n",
              "      <td>0</td>\n",
              "      <td>0.965815</td>\n",
              "      <td>0.679885</td>\n",
              "      <td>0.720455</td>\n",
              "      <td>00:04</td>\n",
              "    </tr>\n",
              "    <tr>\n",
              "      <td>1</td>\n",
              "      <td>0.966472</td>\n",
              "      <td>0.679340</td>\n",
              "      <td>0.713636</td>\n",
              "      <td>00:04</td>\n",
              "    </tr>\n",
              "    <tr>\n",
              "      <td>2</td>\n",
              "      <td>0.938269</td>\n",
              "      <td>0.665762</td>\n",
              "      <td>0.718939</td>\n",
              "      <td>00:04</td>\n",
              "    </tr>\n",
              "    <tr>\n",
              "      <td>3</td>\n",
              "      <td>0.937766</td>\n",
              "      <td>0.675933</td>\n",
              "      <td>0.712121</td>\n",
              "      <td>00:03</td>\n",
              "    </tr>\n",
              "    <tr>\n",
              "      <td>4</td>\n",
              "      <td>0.962893</td>\n",
              "      <td>0.681497</td>\n",
              "      <td>0.712121</td>\n",
              "      <td>00:04</td>\n",
              "    </tr>\n",
              "    <tr>\n",
              "      <td>5</td>\n",
              "      <td>0.946468</td>\n",
              "      <td>0.651940</td>\n",
              "      <td>0.728788</td>\n",
              "      <td>00:03</td>\n",
              "    </tr>\n",
              "    <tr>\n",
              "      <td>6</td>\n",
              "      <td>0.928478</td>\n",
              "      <td>0.668928</td>\n",
              "      <td>0.710606</td>\n",
              "      <td>00:04</td>\n",
              "    </tr>\n",
              "    <tr>\n",
              "      <td>7</td>\n",
              "      <td>0.928614</td>\n",
              "      <td>0.645487</td>\n",
              "      <td>0.733333</td>\n",
              "      <td>00:03</td>\n",
              "    </tr>\n",
              "    <tr>\n",
              "      <td>8</td>\n",
              "      <td>0.934516</td>\n",
              "      <td>0.625510</td>\n",
              "      <td>0.744697</td>\n",
              "      <td>00:04</td>\n",
              "    </tr>\n",
              "    <tr>\n",
              "      <td>9</td>\n",
              "      <td>0.916192</td>\n",
              "      <td>0.646521</td>\n",
              "      <td>0.723485</td>\n",
              "      <td>00:03</td>\n",
              "    </tr>\n",
              "    <tr>\n",
              "      <td>10</td>\n",
              "      <td>0.930024</td>\n",
              "      <td>0.631187</td>\n",
              "      <td>0.724242</td>\n",
              "      <td>00:04</td>\n",
              "    </tr>\n",
              "    <tr>\n",
              "      <td>11</td>\n",
              "      <td>0.907407</td>\n",
              "      <td>0.615563</td>\n",
              "      <td>0.735606</td>\n",
              "      <td>00:03</td>\n",
              "    </tr>\n",
              "    <tr>\n",
              "      <td>12</td>\n",
              "      <td>0.858509</td>\n",
              "      <td>0.545399</td>\n",
              "      <td>0.781061</td>\n",
              "      <td>00:03</td>\n",
              "    </tr>\n",
              "    <tr>\n",
              "      <td>13</td>\n",
              "      <td>0.898713</td>\n",
              "      <td>0.594151</td>\n",
              "      <td>0.746212</td>\n",
              "      <td>00:04</td>\n",
              "    </tr>\n",
              "    <tr>\n",
              "      <td>14</td>\n",
              "      <td>0.899798</td>\n",
              "      <td>0.626766</td>\n",
              "      <td>0.715151</td>\n",
              "      <td>00:04</td>\n",
              "    </tr>\n",
              "    <tr>\n",
              "      <td>15</td>\n",
              "      <td>0.895801</td>\n",
              "      <td>0.592900</td>\n",
              "      <td>0.746212</td>\n",
              "      <td>00:04</td>\n",
              "    </tr>\n",
              "    <tr>\n",
              "      <td>16</td>\n",
              "      <td>0.874327</td>\n",
              "      <td>0.621748</td>\n",
              "      <td>0.726515</td>\n",
              "      <td>00:03</td>\n",
              "    </tr>\n",
              "    <tr>\n",
              "      <td>17</td>\n",
              "      <td>0.850627</td>\n",
              "      <td>0.584230</td>\n",
              "      <td>0.760606</td>\n",
              "      <td>00:03</td>\n",
              "    </tr>\n",
              "    <tr>\n",
              "      <td>18</td>\n",
              "      <td>0.857218</td>\n",
              "      <td>0.554501</td>\n",
              "      <td>0.757576</td>\n",
              "      <td>00:03</td>\n",
              "    </tr>\n",
              "    <tr>\n",
              "      <td>19</td>\n",
              "      <td>0.888862</td>\n",
              "      <td>0.581882</td>\n",
              "      <td>0.771212</td>\n",
              "      <td>00:03</td>\n",
              "    </tr>\n",
              "    <tr>\n",
              "      <td>20</td>\n",
              "      <td>0.885324</td>\n",
              "      <td>0.542383</td>\n",
              "      <td>0.776515</td>\n",
              "      <td>00:04</td>\n",
              "    </tr>\n",
              "    <tr>\n",
              "      <td>21</td>\n",
              "      <td>0.833646</td>\n",
              "      <td>0.566548</td>\n",
              "      <td>0.797727</td>\n",
              "      <td>00:03</td>\n",
              "    </tr>\n",
              "    <tr>\n",
              "      <td>22</td>\n",
              "      <td>0.865615</td>\n",
              "      <td>0.539110</td>\n",
              "      <td>0.793939</td>\n",
              "      <td>00:04</td>\n",
              "    </tr>\n",
              "    <tr>\n",
              "      <td>23</td>\n",
              "      <td>0.867777</td>\n",
              "      <td>0.558791</td>\n",
              "      <td>0.770455</td>\n",
              "      <td>00:04</td>\n",
              "    </tr>\n",
              "    <tr>\n",
              "      <td>24</td>\n",
              "      <td>0.882413</td>\n",
              "      <td>0.534925</td>\n",
              "      <td>0.803030</td>\n",
              "      <td>00:04</td>\n",
              "    </tr>\n",
              "    <tr>\n",
              "      <td>25</td>\n",
              "      <td>0.842339</td>\n",
              "      <td>0.580678</td>\n",
              "      <td>0.757576</td>\n",
              "      <td>00:03</td>\n",
              "    </tr>\n",
              "    <tr>\n",
              "      <td>26</td>\n",
              "      <td>0.789343</td>\n",
              "      <td>0.535149</td>\n",
              "      <td>0.804545</td>\n",
              "      <td>00:03</td>\n",
              "    </tr>\n",
              "    <tr>\n",
              "      <td>27</td>\n",
              "      <td>0.861822</td>\n",
              "      <td>0.544449</td>\n",
              "      <td>0.806818</td>\n",
              "      <td>00:04</td>\n",
              "    </tr>\n",
              "    <tr>\n",
              "      <td>28</td>\n",
              "      <td>0.809376</td>\n",
              "      <td>0.542944</td>\n",
              "      <td>0.784849</td>\n",
              "      <td>00:03</td>\n",
              "    </tr>\n",
              "    <tr>\n",
              "      <td>29</td>\n",
              "      <td>0.814427</td>\n",
              "      <td>0.534465</td>\n",
              "      <td>0.811364</td>\n",
              "      <td>00:04</td>\n",
              "    </tr>\n",
              "    <tr>\n",
              "      <td>30</td>\n",
              "      <td>0.787119</td>\n",
              "      <td>0.509101</td>\n",
              "      <td>0.815909</td>\n",
              "      <td>00:03</td>\n",
              "    </tr>\n",
              "    <tr>\n",
              "      <td>31</td>\n",
              "      <td>0.803830</td>\n",
              "      <td>0.544095</td>\n",
              "      <td>0.800000</td>\n",
              "      <td>00:04</td>\n",
              "    </tr>\n",
              "    <tr>\n",
              "      <td>32</td>\n",
              "      <td>0.752836</td>\n",
              "      <td>0.501275</td>\n",
              "      <td>0.822727</td>\n",
              "      <td>00:03</td>\n",
              "    </tr>\n",
              "    <tr>\n",
              "      <td>33</td>\n",
              "      <td>0.774931</td>\n",
              "      <td>0.493629</td>\n",
              "      <td>0.815909</td>\n",
              "      <td>00:04</td>\n",
              "    </tr>\n",
              "    <tr>\n",
              "      <td>34</td>\n",
              "      <td>0.781737</td>\n",
              "      <td>0.513684</td>\n",
              "      <td>0.803030</td>\n",
              "      <td>00:04</td>\n",
              "    </tr>\n",
              "    <tr>\n",
              "      <td>35</td>\n",
              "      <td>0.805144</td>\n",
              "      <td>0.519365</td>\n",
              "      <td>0.820455</td>\n",
              "      <td>00:03</td>\n",
              "    </tr>\n",
              "    <tr>\n",
              "      <td>36</td>\n",
              "      <td>0.768961</td>\n",
              "      <td>0.486724</td>\n",
              "      <td>0.828788</td>\n",
              "      <td>00:03</td>\n",
              "    </tr>\n",
              "    <tr>\n",
              "      <td>37</td>\n",
              "      <td>0.803280</td>\n",
              "      <td>0.474395</td>\n",
              "      <td>0.830303</td>\n",
              "      <td>00:04</td>\n",
              "    </tr>\n",
              "    <tr>\n",
              "      <td>38</td>\n",
              "      <td>0.726354</td>\n",
              "      <td>0.469030</td>\n",
              "      <td>0.826515</td>\n",
              "      <td>00:03</td>\n",
              "    </tr>\n",
              "    <tr>\n",
              "      <td>39</td>\n",
              "      <td>0.777589</td>\n",
              "      <td>0.515531</td>\n",
              "      <td>0.825758</td>\n",
              "      <td>00:04</td>\n",
              "    </tr>\n",
              "    <tr>\n",
              "      <td>40</td>\n",
              "      <td>0.737016</td>\n",
              "      <td>0.456332</td>\n",
              "      <td>0.835606</td>\n",
              "      <td>00:04</td>\n",
              "    </tr>\n",
              "    <tr>\n",
              "      <td>41</td>\n",
              "      <td>0.685894</td>\n",
              "      <td>0.449429</td>\n",
              "      <td>0.837879</td>\n",
              "      <td>00:03</td>\n",
              "    </tr>\n",
              "    <tr>\n",
              "      <td>42</td>\n",
              "      <td>0.690210</td>\n",
              "      <td>0.450877</td>\n",
              "      <td>0.847727</td>\n",
              "      <td>00:03</td>\n",
              "    </tr>\n",
              "    <tr>\n",
              "      <td>43</td>\n",
              "      <td>0.750308</td>\n",
              "      <td>0.474895</td>\n",
              "      <td>0.828030</td>\n",
              "      <td>00:04</td>\n",
              "    </tr>\n",
              "    <tr>\n",
              "      <td>44</td>\n",
              "      <td>0.723166</td>\n",
              "      <td>0.470709</td>\n",
              "      <td>0.831818</td>\n",
              "      <td>00:04</td>\n",
              "    </tr>\n",
              "    <tr>\n",
              "      <td>45</td>\n",
              "      <td>0.682083</td>\n",
              "      <td>0.467878</td>\n",
              "      <td>0.829545</td>\n",
              "      <td>00:03</td>\n",
              "    </tr>\n",
              "    <tr>\n",
              "      <td>46</td>\n",
              "      <td>0.720717</td>\n",
              "      <td>0.485406</td>\n",
              "      <td>0.821212</td>\n",
              "      <td>00:04</td>\n",
              "    </tr>\n",
              "    <tr>\n",
              "      <td>47</td>\n",
              "      <td>0.730047</td>\n",
              "      <td>0.453832</td>\n",
              "      <td>0.830303</td>\n",
              "      <td>00:04</td>\n",
              "    </tr>\n",
              "    <tr>\n",
              "      <td>48</td>\n",
              "      <td>0.680104</td>\n",
              "      <td>0.445803</td>\n",
              "      <td>0.848485</td>\n",
              "      <td>00:03</td>\n",
              "    </tr>\n",
              "    <tr>\n",
              "      <td>49</td>\n",
              "      <td>0.700636</td>\n",
              "      <td>0.435748</td>\n",
              "      <td>0.848485</td>\n",
              "      <td>00:03</td>\n",
              "    </tr>\n",
              "    <tr>\n",
              "      <td>50</td>\n",
              "      <td>0.688406</td>\n",
              "      <td>0.448674</td>\n",
              "      <td>0.834091</td>\n",
              "      <td>00:04</td>\n",
              "    </tr>\n",
              "    <tr>\n",
              "      <td>51</td>\n",
              "      <td>0.680534</td>\n",
              "      <td>0.417451</td>\n",
              "      <td>0.853030</td>\n",
              "      <td>00:04</td>\n",
              "    </tr>\n",
              "    <tr>\n",
              "      <td>52</td>\n",
              "      <td>0.665554</td>\n",
              "      <td>0.420973</td>\n",
              "      <td>0.855303</td>\n",
              "      <td>00:03</td>\n",
              "    </tr>\n",
              "    <tr>\n",
              "      <td>53</td>\n",
              "      <td>0.670710</td>\n",
              "      <td>0.422231</td>\n",
              "      <td>0.844697</td>\n",
              "      <td>00:03</td>\n",
              "    </tr>\n",
              "    <tr>\n",
              "      <td>54</td>\n",
              "      <td>0.677289</td>\n",
              "      <td>0.421305</td>\n",
              "      <td>0.858333</td>\n",
              "      <td>00:04</td>\n",
              "    </tr>\n",
              "    <tr>\n",
              "      <td>55</td>\n",
              "      <td>0.640460</td>\n",
              "      <td>0.394989</td>\n",
              "      <td>0.853030</td>\n",
              "      <td>00:04</td>\n",
              "    </tr>\n",
              "    <tr>\n",
              "      <td>56</td>\n",
              "      <td>0.623718</td>\n",
              "      <td>0.431788</td>\n",
              "      <td>0.840909</td>\n",
              "      <td>00:03</td>\n",
              "    </tr>\n",
              "    <tr>\n",
              "      <td>57</td>\n",
              "      <td>0.634500</td>\n",
              "      <td>0.402994</td>\n",
              "      <td>0.855303</td>\n",
              "      <td>00:04</td>\n",
              "    </tr>\n",
              "    <tr>\n",
              "      <td>58</td>\n",
              "      <td>0.637553</td>\n",
              "      <td>0.422097</td>\n",
              "      <td>0.845455</td>\n",
              "      <td>00:04</td>\n",
              "    </tr>\n",
              "    <tr>\n",
              "      <td>59</td>\n",
              "      <td>0.623216</td>\n",
              "      <td>0.405836</td>\n",
              "      <td>0.851515</td>\n",
              "      <td>00:04</td>\n",
              "    </tr>\n",
              "    <tr>\n",
              "      <td>60</td>\n",
              "      <td>0.614914</td>\n",
              "      <td>0.408829</td>\n",
              "      <td>0.847727</td>\n",
              "      <td>00:03</td>\n",
              "    </tr>\n",
              "    <tr>\n",
              "      <td>61</td>\n",
              "      <td>0.583514</td>\n",
              "      <td>0.389743</td>\n",
              "      <td>0.861364</td>\n",
              "      <td>00:04</td>\n",
              "    </tr>\n",
              "    <tr>\n",
              "      <td>62</td>\n",
              "      <td>0.625920</td>\n",
              "      <td>0.404135</td>\n",
              "      <td>0.856818</td>\n",
              "      <td>00:04</td>\n",
              "    </tr>\n",
              "    <tr>\n",
              "      <td>63</td>\n",
              "      <td>0.583366</td>\n",
              "      <td>0.394329</td>\n",
              "      <td>0.860606</td>\n",
              "      <td>00:04</td>\n",
              "    </tr>\n",
              "    <tr>\n",
              "      <td>64</td>\n",
              "      <td>0.591263</td>\n",
              "      <td>0.393719</td>\n",
              "      <td>0.863636</td>\n",
              "      <td>00:04</td>\n",
              "    </tr>\n",
              "    <tr>\n",
              "      <td>65</td>\n",
              "      <td>0.577393</td>\n",
              "      <td>0.390754</td>\n",
              "      <td>0.859091</td>\n",
              "      <td>00:03</td>\n",
              "    </tr>\n",
              "    <tr>\n",
              "      <td>66</td>\n",
              "      <td>0.601365</td>\n",
              "      <td>0.413211</td>\n",
              "      <td>0.851515</td>\n",
              "      <td>00:04</td>\n",
              "    </tr>\n",
              "    <tr>\n",
              "      <td>67</td>\n",
              "      <td>0.583224</td>\n",
              "      <td>0.390941</td>\n",
              "      <td>0.857576</td>\n",
              "      <td>00:04</td>\n",
              "    </tr>\n",
              "    <tr>\n",
              "      <td>68</td>\n",
              "      <td>0.581122</td>\n",
              "      <td>0.399349</td>\n",
              "      <td>0.850758</td>\n",
              "      <td>00:04</td>\n",
              "    </tr>\n",
              "    <tr>\n",
              "      <td>69</td>\n",
              "      <td>0.572180</td>\n",
              "      <td>0.392747</td>\n",
              "      <td>0.857576</td>\n",
              "      <td>00:03</td>\n",
              "    </tr>\n",
              "    <tr>\n",
              "      <td>70</td>\n",
              "      <td>0.535520</td>\n",
              "      <td>0.387553</td>\n",
              "      <td>0.853788</td>\n",
              "      <td>00:03</td>\n",
              "    </tr>\n",
              "    <tr>\n",
              "      <td>71</td>\n",
              "      <td>0.564957</td>\n",
              "      <td>0.386712</td>\n",
              "      <td>0.856061</td>\n",
              "      <td>00:04</td>\n",
              "    </tr>\n",
              "    <tr>\n",
              "      <td>72</td>\n",
              "      <td>0.552211</td>\n",
              "      <td>0.383270</td>\n",
              "      <td>0.861364</td>\n",
              "      <td>00:04</td>\n",
              "    </tr>\n",
              "    <tr>\n",
              "      <td>73</td>\n",
              "      <td>0.548986</td>\n",
              "      <td>0.381132</td>\n",
              "      <td>0.862121</td>\n",
              "      <td>00:03</td>\n",
              "    </tr>\n",
              "    <tr>\n",
              "      <td>74</td>\n",
              "      <td>0.576708</td>\n",
              "      <td>0.386878</td>\n",
              "      <td>0.861364</td>\n",
              "      <td>00:04</td>\n",
              "    </tr>\n",
              "    <tr>\n",
              "      <td>75</td>\n",
              "      <td>0.563585</td>\n",
              "      <td>0.379115</td>\n",
              "      <td>0.865909</td>\n",
              "      <td>00:03</td>\n",
              "    </tr>\n",
              "    <tr>\n",
              "      <td>76</td>\n",
              "      <td>0.558362</td>\n",
              "      <td>0.379696</td>\n",
              "      <td>0.859848</td>\n",
              "      <td>00:04</td>\n",
              "    </tr>\n",
              "    <tr>\n",
              "      <td>77</td>\n",
              "      <td>0.558597</td>\n",
              "      <td>0.387586</td>\n",
              "      <td>0.853788</td>\n",
              "      <td>00:03</td>\n",
              "    </tr>\n",
              "    <tr>\n",
              "      <td>78</td>\n",
              "      <td>0.571405</td>\n",
              "      <td>0.384342</td>\n",
              "      <td>0.859091</td>\n",
              "      <td>00:03</td>\n",
              "    </tr>\n",
              "    <tr>\n",
              "      <td>79</td>\n",
              "      <td>0.529593</td>\n",
              "      <td>0.385383</td>\n",
              "      <td>0.860606</td>\n",
              "      <td>00:03</td>\n",
              "    </tr>\n",
              "    <tr>\n",
              "      <td>80</td>\n",
              "      <td>0.526432</td>\n",
              "      <td>0.384299</td>\n",
              "      <td>0.857576</td>\n",
              "      <td>00:03</td>\n",
              "    </tr>\n",
              "    <tr>\n",
              "      <td>81</td>\n",
              "      <td>0.555507</td>\n",
              "      <td>0.377993</td>\n",
              "      <td>0.859091</td>\n",
              "      <td>00:03</td>\n",
              "    </tr>\n",
              "    <tr>\n",
              "      <td>82</td>\n",
              "      <td>0.520955</td>\n",
              "      <td>0.380399</td>\n",
              "      <td>0.863636</td>\n",
              "      <td>00:03</td>\n",
              "    </tr>\n",
              "    <tr>\n",
              "      <td>83</td>\n",
              "      <td>0.539776</td>\n",
              "      <td>0.379087</td>\n",
              "      <td>0.864394</td>\n",
              "      <td>00:04</td>\n",
              "    </tr>\n",
              "    <tr>\n",
              "      <td>84</td>\n",
              "      <td>0.542671</td>\n",
              "      <td>0.380371</td>\n",
              "      <td>0.861364</td>\n",
              "      <td>00:04</td>\n",
              "    </tr>\n",
              "    <tr>\n",
              "      <td>85</td>\n",
              "      <td>0.562255</td>\n",
              "      <td>0.391308</td>\n",
              "      <td>0.853788</td>\n",
              "      <td>00:04</td>\n",
              "    </tr>\n",
              "    <tr>\n",
              "      <td>86</td>\n",
              "      <td>0.564582</td>\n",
              "      <td>0.379463</td>\n",
              "      <td>0.862121</td>\n",
              "      <td>00:04</td>\n",
              "    </tr>\n",
              "    <tr>\n",
              "      <td>87</td>\n",
              "      <td>0.561221</td>\n",
              "      <td>0.385357</td>\n",
              "      <td>0.860606</td>\n",
              "      <td>00:04</td>\n",
              "    </tr>\n",
              "    <tr>\n",
              "      <td>88</td>\n",
              "      <td>0.562130</td>\n",
              "      <td>0.382480</td>\n",
              "      <td>0.857576</td>\n",
              "      <td>00:04</td>\n",
              "    </tr>\n",
              "    <tr>\n",
              "      <td>89</td>\n",
              "      <td>0.526888</td>\n",
              "      <td>0.392747</td>\n",
              "      <td>0.854545</td>\n",
              "      <td>00:04</td>\n",
              "    </tr>\n",
              "  </tbody>\n",
              "</table>"
            ],
            "text/plain": [
              "<IPython.core.display.HTML object>"
            ]
          },
          "metadata": {
            "tags": []
          }
        }
      ]
    },
    {
      "cell_type": "markdown",
      "metadata": {
        "id": "yiiGF4D9MbPZ",
        "colab_type": "text"
      },
      "source": [
        "## Results"
      ]
    },
    {
      "cell_type": "code",
      "metadata": {
        "colab_type": "code",
        "id": "VR3eWFt0Cg1f",
        "colab": {}
      },
      "source": [
        "\"\"\"\n",
        "Predictions\n",
        "\"\"\"\n",
        "preds, targets = learner.get_preds()\n",
        "predictions = np.argmax(preds, axis = 1)"
      ],
      "execution_count": 0,
      "outputs": []
    },
    {
      "cell_type": "code",
      "metadata": {
        "colab_type": "code",
        "outputId": "25d58a90-6ba4-4f6d-f2d3-41b40f7a82e8",
        "id": "AXvQaXv5Cg1j",
        "colab": {
          "base_uri": "https://localhost:8080/",
          "height": 102
        }
      },
      "source": [
        "\"\"\"\n",
        "Confusion Matrix\n",
        "\"\"\"\n",
        "cm = pd.crosstab(predictions, targets)\n",
        "print(cm)"
      ],
      "execution_count": 125,
      "outputs": [
        {
          "output_type": "stream",
          "text": [
            "col_0    0    1    2\n",
            "row_0               \n",
            "0      489   61   10\n",
            "1       29  283   13\n",
            "2       36   43  356\n"
          ],
          "name": "stdout"
        }
      ]
    },
    {
      "cell_type": "code",
      "metadata": {
        "colab_type": "code",
        "outputId": "9cadbe0c-b709-4387-a59b-f02f68644b48",
        "id": "apxQPYYp2EWX",
        "colab": {
          "base_uri": "https://localhost:8080/",
          "height": 34
        }
      },
      "source": [
        "\"\"\"\n",
        "Accuracy\n",
        "\"\"\"\n",
        "acc = np.sum([cm[i][i] for i in range(3)])/np.sum(np.sum(cm))\n",
        "print(round(acc,3))"
      ],
      "execution_count": 126,
      "outputs": [
        {
          "output_type": "stream",
          "text": [
            "0.855\n"
          ],
          "name": "stdout"
        }
      ]
    },
    {
      "cell_type": "code",
      "metadata": {
        "colab_type": "code",
        "outputId": "9cb5cfc1-62f9-4034-a584-c1e5d3db7a7e",
        "id": "H7GPVtvn2EWb",
        "colab": {
          "base_uri": "https://localhost:8080/",
          "height": 34
        }
      },
      "source": [
        "\"\"\"\n",
        "Precision\n",
        "\"\"\"\n",
        "prec = [0 for i in range(3)]\n",
        "for i in range(3):\n",
        "    prec[i] = round(cm[i][i]/np.sum(cm,axis=1)[i],3)\n",
        "print(prec)"
      ],
      "execution_count": 127,
      "outputs": [
        {
          "output_type": "stream",
          "text": [
            "[0.873, 0.871, 0.818]\n"
          ],
          "name": "stdout"
        }
      ]
    },
    {
      "cell_type": "code",
      "metadata": {
        "colab_type": "code",
        "outputId": "b3126bfb-f404-4837-acba-c49c2fe259bf",
        "id": "TzaVGDy72EWd",
        "colab": {
          "base_uri": "https://localhost:8080/",
          "height": 34
        }
      },
      "source": [
        "\"\"\"\n",
        "Recall\n",
        "\"\"\"\n",
        "rec = [0 for i in range(3)]\n",
        "for i in range(3):\n",
        "    rec[i] = round(cm[i][i]/np.sum(cm)[i],3)\n",
        "print(rec)"
      ],
      "execution_count": 128,
      "outputs": [
        {
          "output_type": "stream",
          "text": [
            "[0.883, 0.731, 0.939]\n"
          ],
          "name": "stdout"
        }
      ]
    },
    {
      "cell_type": "code",
      "metadata": {
        "colab_type": "code",
        "outputId": "620b5144-e9a9-4403-f48b-5416096608d0",
        "id": "5j1pHHVD2EWf",
        "colab": {
          "base_uri": "https://localhost:8080/",
          "height": 34
        }
      },
      "source": [
        "\"\"\"\n",
        "F1 score\n",
        "\"\"\"\n",
        "f1 = [round(2*prec[i]*rec[i]/(prec[i]+rec[i]),3) for i in range(3)]\n",
        "print(f1)"
      ],
      "execution_count": 129,
      "outputs": [
        {
          "output_type": "stream",
          "text": [
            "[0.878, 0.795, 0.874]\n"
          ],
          "name": "stdout"
        }
      ]
    },
    {
      "cell_type": "code",
      "metadata": {
        "id": "DRamnqtL4w-U",
        "colab_type": "code",
        "colab": {}
      },
      "source": [
        ""
      ],
      "execution_count": 0,
      "outputs": []
    }
  ]
}